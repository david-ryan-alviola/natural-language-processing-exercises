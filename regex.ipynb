{
 "cells": [
  {
   "cell_type": "code",
   "execution_count": 1,
   "id": "sporting-cable",
   "metadata": {},
   "outputs": [],
   "source": [
    "import re"
   ]
  },
  {
   "cell_type": "markdown",
   "id": "killing-diamond",
   "metadata": {},
   "source": [
    "# Regex Exercises\n",
    "\n",
    "1. Write a function named is_vowel. It should accept a string as input and use a regular expression to determine if the passed string is a vowel. While not explicity mentioned in the lesson, you can treat the result of re.search as a boolean value that indicates whether or not the regular expression matches the given string."
   ]
  },
  {
   "cell_type": "code",
   "execution_count": 62,
   "id": "terminal-visitor",
   "metadata": {},
   "outputs": [],
   "source": [
    "def is_vowel(letter):\n",
    "    \"\"\"\n",
    "    Indicates if a letter is a vowel or not.\n",
    "    \n",
    "    Parameters\n",
    "    ----------\n",
    "    letter : str\n",
    "        A single character\n",
    "    \n",
    "    Raises\n",
    "    ------\n",
    "    ValueError\n",
    "        Thrown if length of letter is 0 or > 1\n",
    "\n",
    "    Returns\n",
    "    -------\n",
    "    bool\n",
    "        True if letter is \"a\", \"e\", \"i\", \"o\", or \"u\". False otherwise.\n",
    "    \"\"\"\n",
    "    \n",
    "    if len(letter) > 1 or len(letter) == 0:\n",
    "        raise ValueError(\"letter length must be 1\")\n",
    "        \n",
    "    vowels = r'[aeiou]'\n",
    "    \n",
    "    match = re.search(vowels, letter, flags=re.IGNORECASE)\n",
    "    \n",
    "    if match:\n",
    "        return match\n",
    "    else:\n",
    "        return False"
   ]
  },
  {
   "cell_type": "code",
   "execution_count": 63,
   "id": "shared-bunch",
   "metadata": {},
   "outputs": [],
   "source": [
    "# Tests to make sure my function is working correctly\n",
    "assert(is_vowel(\"a\"))\n",
    "assert(is_vowel(\"A\"))\n",
    "assert(is_vowel(\"e\"))\n",
    "assert(is_vowel(\"i\"))\n",
    "assert(is_vowel(\"o\"))\n",
    "assert(is_vowel(\"u\"))\n",
    "assert(is_vowel(\"y\") == False)\n",
    "assert(is_vowel(\"B\") == False)"
   ]
  },
  {
   "cell_type": "markdown",
   "id": "speaking-supplier",
   "metadata": {},
   "source": [
    "2. Write a function named is_valid_username that accepts a string as input. A valid username starts with a lowercase letter, and only consists of lowercase letters, numbers, or the _ character. It should also be no longer than 32 characters. The function should return either True or False depending on whether the passed string is a valid username."
   ]
  },
  {
   "cell_type": "code",
   "execution_count": null,
   "id": "chief-realtor",
   "metadata": {},
   "outputs": [],
   "source": [
    "def is_valid_username(username):\n",
    "    "
   ]
  },
  {
   "cell_type": "code",
   "execution_count": 64,
   "id": "affecting-thickness",
   "metadata": {},
   "outputs": [
    {
     "ename": "NameError",
     "evalue": "name 'is_valid_username' is not defined",
     "output_type": "error",
     "traceback": [
      "\u001b[0;31m---------------------------------------------------------------------------\u001b[0m",
      "\u001b[0;31mNameError\u001b[0m                                 Traceback (most recent call last)",
      "\u001b[0;32m<ipython-input-64-40f5674fc8ed>\u001b[0m in \u001b[0;36m<module>\u001b[0;34m\u001b[0m\n\u001b[1;32m      1\u001b[0m \u001b[0;31m# Tests\u001b[0m\u001b[0;34m\u001b[0m\u001b[0;34m\u001b[0m\u001b[0;34m\u001b[0m\u001b[0m\n\u001b[0;32m----> 2\u001b[0;31m \u001b[0;32massert\u001b[0m\u001b[0;34m(\u001b[0m\u001b[0mis_valid_username\u001b[0m\u001b[0;34m(\u001b[0m\u001b[0;34m\"aaaaaaaaaaaaaaaaaaaaaaaaaaaaaaaaa\"\u001b[0m\u001b[0;34m)\u001b[0m \u001b[0;34m==\u001b[0m \u001b[0;32mFalse\u001b[0m\u001b[0;34m)\u001b[0m\u001b[0;34m\u001b[0m\u001b[0;34m\u001b[0m\u001b[0m\n\u001b[0m\u001b[1;32m      3\u001b[0m \u001b[0;32massert\u001b[0m\u001b[0;34m(\u001b[0m\u001b[0mis_valid_username\u001b[0m\u001b[0;34m(\u001b[0m\u001b[0;34m\"codeup\"\u001b[0m\u001b[0;34m)\u001b[0m\u001b[0;34m)\u001b[0m\u001b[0;34m\u001b[0m\u001b[0;34m\u001b[0m\u001b[0m\n\u001b[1;32m      4\u001b[0m \u001b[0;32massert\u001b[0m\u001b[0;34m(\u001b[0m\u001b[0mis_valid_username\u001b[0m\u001b[0;34m(\u001b[0m\u001b[0;34m\"Codeup\"\u001b[0m\u001b[0;34m)\u001b[0m \u001b[0;34m==\u001b[0m \u001b[0;32mFalse\u001b[0m\u001b[0;34m)\u001b[0m\u001b[0;34m\u001b[0m\u001b[0;34m\u001b[0m\u001b[0m\n\u001b[1;32m      5\u001b[0m \u001b[0;32massert\u001b[0m\u001b[0;34m(\u001b[0m\u001b[0mis_valid_username\u001b[0m\u001b[0;34m(\u001b[0m\u001b[0;34m\"codeup123\"\u001b[0m\u001b[0;34m)\u001b[0m\u001b[0;34m)\u001b[0m\u001b[0;34m\u001b[0m\u001b[0;34m\u001b[0m\u001b[0m\n",
      "\u001b[0;31mNameError\u001b[0m: name 'is_valid_username' is not defined"
     ]
    }
   ],
   "source": [
    "# Tests\n",
    "assert(is_valid_username(\"aaaaaaaaaaaaaaaaaaaaaaaaaaaaaaaaa\") == False)\n",
    "assert(is_valid_username(\"codeup\"))\n",
    "assert(is_valid_username(\"Codeup\") == False)\n",
    "assert(is_valid_username(\"codeup123\"))\n",
    "assert(is_valid_username(\"1codeup\") == False)"
   ]
  },
  {
   "cell_type": "code",
   "execution_count": null,
   "id": "continent-peace",
   "metadata": {},
   "outputs": [],
   "source": []
  }
 ],
 "metadata": {
  "kernelspec": {
   "display_name": "Python 3",
   "language": "python",
   "name": "python3"
  },
  "language_info": {
   "codemirror_mode": {
    "name": "ipython",
    "version": 3
   },
   "file_extension": ".py",
   "mimetype": "text/x-python",
   "name": "python",
   "nbconvert_exporter": "python",
   "pygments_lexer": "ipython3",
   "version": "3.8.5"
  }
 },
 "nbformat": 4,
 "nbformat_minor": 5
}
