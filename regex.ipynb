{
 "cells": [
  {
   "cell_type": "code",
   "execution_count": 1,
   "id": "higher-emerald",
   "metadata": {},
   "outputs": [],
   "source": [
    "import re"
   ]
  },
  {
   "cell_type": "markdown",
   "id": "narrow-chinese",
   "metadata": {},
   "source": [
    "# Regex Exercises\n",
    "\n",
    "1. Write a function named is_vowel. It should accept a string as input and use a regular expression to determine if the passed string is a vowel. While not explicity mentioned in the lesson, you can treat the result of re.search as a boolean value that indicates whether or not the regular expression matches the given string."
   ]
  },
  {
   "cell_type": "code",
   "execution_count": 179,
   "id": "fundamental-webmaster",
   "metadata": {},
   "outputs": [],
   "source": [
    "def is_vowel(letter):\n",
    "    \"\"\"\n",
    "    Indicates if a letter is a vowel or not.\n",
    "    \n",
    "    Parameters\n",
    "    ----------\n",
    "    letter : str\n",
    "        A single character\n",
    "    \n",
    "    Raises\n",
    "    ------\n",
    "    ValueError\n",
    "        Thrown if length of letter is 0 or > 1\n",
    "\n",
    "    Returns\n",
    "    -------\n",
    "    bool\n",
    "        True if letter is \"a\", \"e\", \"i\", \"o\", or \"u\". False otherwise.\n",
    "    \"\"\"\n",
    "    \n",
    "    if len(letter) > 1 or len(letter) == 0:\n",
    "        raise ValueError(\"letter length must be 1\")\n",
    "        \n",
    "    vowels = r'[aeiou]{1}'\n",
    "    \n",
    "    match = re.match(vowels, letter, flags=re.IGNORECASE)\n",
    "    \n",
    "    if match:\n",
    "        return match\n",
    "    else:\n",
    "        return False"
   ]
  },
  {
   "cell_type": "code",
   "execution_count": 181,
   "id": "cordless-spirit",
   "metadata": {},
   "outputs": [],
   "source": [
    "# Tests to make sure my function is working correctly\n",
    "assert(is_vowel(\"a\"))\n",
    "assert(is_vowel(\"A\"))\n",
    "assert(is_vowel(\"e\"))\n",
    "assert(is_vowel(\"i\"))\n",
    "assert(is_vowel(\"o\"))\n",
    "assert(is_vowel(\"u\"))\n",
    "assert(is_vowel(\"y\") == False)\n",
    "assert(is_vowel(\"B\") == False)"
   ]
  },
  {
   "cell_type": "markdown",
   "id": "purple-playlist",
   "metadata": {},
   "source": [
    "2. Write a function named is_valid_username that accepts a string as input. A valid username starts with a lowercase letter, and only consists of lowercase letters, numbers, or the _ character. It should also be no longer than 32 characters. The function should return either True or False depending on whether the passed string is a valid username."
   ]
  },
  {
   "cell_type": "code",
   "execution_count": 200,
   "id": "sound-universal",
   "metadata": {},
   "outputs": [],
   "source": [
    "def is_valid_username(username):\n",
    "    \"\"\"\n",
    "    Indicates if a username is a valid or not.\n",
    "    \n",
    "    Parameters\n",
    "    ----------\n",
    "    username : str\n",
    "        The username to be checked\n",
    "\n",
    "    Returns\n",
    "    -------\n",
    "    bool\n",
    "        True if the username is valid and False otherwise. Valid usernames start with lowercase alphabetical characters, \\\n",
    "        contain all lowercase alphabetical characters or numbers or underscores, and is 32 characters or less.\n",
    "    \"\"\"\n",
    "    \n",
    "    starts_lowercase = r\"^[a-z]\"\n",
    "    all_lowercase_num_or_underscore = r\"[a-z\\d_]\"\n",
    "    \n",
    "    length = len(username)\n",
    "    \n",
    "    starts_lowercase_match = False\n",
    "    lowercase_num_underscore_match = False\n",
    "    \n",
    "    if re.match(starts_lowercase, username):\n",
    "        starts_lowercase_match = True\n",
    "    \n",
    "    if len(re.findall(all_lowercase_num_or_underscore , username)) == length:\n",
    "        lowercase_num_underscore_match = True\n",
    "    \n",
    "    return starts_lowercase_match and lowercase_num_underscore_match and length <= 32"
   ]
  },
  {
   "cell_type": "code",
   "execution_count": 201,
   "id": "tribal-bubble",
   "metadata": {},
   "outputs": [],
   "source": [
    "# Tests\n",
    "assert(is_valid_username(\"aaaaaaaaaaaaaaaaaaaaaaaaaaaaaaaaa\") == False)\n",
    "assert(is_valid_username(\"codeup\"))\n",
    "assert(is_valid_username(\"Codeup\") == False)\n",
    "assert(is_valid_username(\"codeup123\"))\n",
    "assert(is_valid_username(\"1codeup\") == False)"
   ]
  },
  {
   "cell_type": "markdown",
   "id": "democratic-restoration",
   "metadata": {},
   "source": [
    "3. Write a regular expression to capture phone numbers. It should match all of the following:\n",
    "\n",
    "(210) 867 5309\\\n",
    "+1 210.867.5309\\\n",
    "867-5309\\\n",
    "210-867-5309"
   ]
  },
  {
   "cell_type": "code",
   "execution_count": 202,
   "id": "dried-sector",
   "metadata": {},
   "outputs": [],
   "source": [
    "phone_numbers = r\"\\D*(\\d{0,3})\\D*(\\d{3})\\D*(\\d{4})\""
   ]
  },
  {
   "cell_type": "code",
   "execution_count": 203,
   "id": "wireless-authority",
   "metadata": {},
   "outputs": [],
   "source": [
    "assert(re.search(phone_numbers, \"(210) 867 5309\"))\n",
    "assert(re.search(phone_numbers, \"+1 210.867.5309\"))\n",
    "assert(re.search(phone_numbers, \"867-5309\"))\n",
    "assert(re.search(phone_numbers, \"210-867-5309\"))"
   ]
  },
  {
   "cell_type": "markdown",
   "id": "white-enlargement",
   "metadata": {},
   "source": [
    "4. Use regular expressions to convert the dates below to the standardized year-month-day format.\n",
    "\n",
    "02/04/19\\\n",
    "02/05/19\\\n",
    "02/06/19\\\n",
    "02/07/19\\\n",
    "02/08/19\\\n",
    "02/09/19\\\n",
    "02/10/19"
   ]
  },
  {
   "cell_type": "code",
   "execution_count": 204,
   "id": "deluxe-survival",
   "metadata": {},
   "outputs": [],
   "source": [
    "month_day_year = r\"(\\d{2})/(\\d{2})/(\\d{2})\""
   ]
  },
  {
   "cell_type": "code",
   "execution_count": 205,
   "id": "turkish-polyester",
   "metadata": {},
   "outputs": [],
   "source": [
    "assert(re.sub(month_day_year, r\"\\3-\\1-\\2\", \"02/04/19\") == \"19-02-04\")\n",
    "assert(re.sub(month_day_year, r\"\\3-\\1-\\2\", \"02/05/19\") == \"19-02-05\")\n",
    "assert(re.sub(month_day_year, r\"\\3-\\1-\\2\", \"02/06/19\") == \"19-02-06\")\n",
    "assert(re.sub(month_day_year, r\"\\3-\\1-\\2\", \"02/07/19\") == \"19-02-07\")\n",
    "assert(re.sub(month_day_year, r\"\\3-\\1-\\2\", \"02/08/19\") == \"19-02-08\")\n",
    "assert(re.sub(month_day_year, r\"\\3-\\1-\\2\", \"02/09/19\") == \"19-02-09\")\n",
    "assert(re.sub(month_day_year, r\"\\3-\\1-\\2\", \"02/10/19\") == \"19-02-10\")"
   ]
  },
  {
   "cell_type": "markdown",
   "id": "knowing-world",
   "metadata": {},
   "source": [
    "5. Write a regex to extract the various parts of these logfile lines:"
   ]
  },
  {
   "cell_type": "markdown",
   "id": "western-sussex",
   "metadata": {},
   "source": [
    "`GET /api/v1/sales?page=86 [16/Apr/2019:193452+0000] HTTP/1.1 {200} 510348 \"python-requests/2.21.0\" 97.105.19.58`"
   ]
  },
  {
   "cell_type": "markdown",
   "id": "chubby-fitting",
   "metadata": {},
   "source": [
    "`POST /users_accounts/file-upload [16/Apr/2019:193452+0000] HTTP/1.1 {201} 42 \"User-Agent: Mozilla/5.0 (X11; Fedora; Fedora; Linux x86_64) AppleWebKit/537.36 (KHTML, like Gecko) Chrome/73.0.3683.86 Safari/537.36\" 97.105.19.58`"
   ]
  },
  {
   "cell_type": "markdown",
   "id": "undefined-romance",
   "metadata": {},
   "source": [
    "`GET /api/v1/items?page=3 [16/Apr/2019:193453+0000] HTTP/1.1 {429} 3561 \"python-requests/2.21.0\" 97.105.19.58`"
   ]
  },
  {
   "cell_type": "code",
   "execution_count": 541,
   "id": "finite-sustainability",
   "metadata": {},
   "outputs": [],
   "source": [
    "log_extracts = r'(?P<request_type>^[A-Z]+)\\s{1}(?P<url>/.{1,})\\s{1}(?P<timestamp>\\[.*\\])\\s{1}(?P<protocol>HTTP.*)\\s{1}(?P<status_cd>{.*})\\s{1}(?P<size_bytes>\\d.*)\\s{1}(?P<client>\".*\")\\s{1}(?P<ip_address>.*)'"
   ]
  },
  {
   "cell_type": "code",
   "execution_count": 542,
   "id": "celtic-doctrine",
   "metadata": {},
   "outputs": [
    {
     "data": {
      "text/plain": [
       "{'request_type': 'GET',\n",
       " 'url': '/api/v1/sales?page=86',\n",
       " 'timestamp': '[16/Apr/2019:193452+0000]',\n",
       " 'protocol': 'HTTP/1.1',\n",
       " 'status_cd': '{200}',\n",
       " 'size_bytes': '510348',\n",
       " 'client': '\"python-requests/2.21.0\"',\n",
       " 'ip_address': '97.105.19.58'}"
      ]
     },
     "execution_count": 542,
     "metadata": {},
     "output_type": "execute_result"
    }
   ],
   "source": [
    "re.search(log_extracts,\\\n",
    "          'GET /api/v1/sales?page=86 [16/Apr/2019:193452+0000] HTTP/1.1 {200} 510348 \"python-requests/2.21.0\" 97.105.19.58').groupdict()"
   ]
  },
  {
   "cell_type": "code",
   "execution_count": 545,
   "id": "accessory-jerusalem",
   "metadata": {},
   "outputs": [
    {
     "data": {
      "text/plain": [
       "{'request_type': 'POST',\n",
       " 'url': '/users_accounts/file-upload',\n",
       " 'timestamp': '[16/Apr/2019:193452+0000]',\n",
       " 'protocol': 'HTTP/1.1',\n",
       " 'status_cd': '{201}',\n",
       " 'size_bytes': '42',\n",
       " 'client': '\"User-Agent: Mozilla/5.0 (X11; Fedora; Fedora; Linux x86_64) AppleWebKit/537.36 (KHTML, like Gecko) Chrome/73.0.3683.86 Safari/537.36\"',\n",
       " 'ip_address': '97.105.19.58'}"
      ]
     },
     "execution_count": 545,
     "metadata": {},
     "output_type": "execute_result"
    }
   ],
   "source": [
    "re.search(log_extracts,\\\n",
    "          'POST /users_accounts/file-upload [16/Apr/2019:193452+0000] HTTP/1.1 {201} 42 \"User-Agent: Mozilla/5.0 (X11; Fedora; Fedora; Linux x86_64) AppleWebKit/537.36 (KHTML, like Gecko) Chrome/73.0.3683.86 Safari/537.36\" 97.105.19.58').groupdict()"
   ]
  },
  {
   "cell_type": "code",
   "execution_count": 546,
   "id": "nominated-proof",
   "metadata": {},
   "outputs": [
    {
     "data": {
      "text/plain": [
       "{'request_type': 'GET',\n",
       " 'url': '/api/v1/items?page=3',\n",
       " 'timestamp': '[16/Apr/2019:193453+0000]',\n",
       " 'protocol': 'HTTP/1.1',\n",
       " 'status_cd': '{429}',\n",
       " 'size_bytes': '3561',\n",
       " 'client': '\"python-requests/2.21.0\"',\n",
       " 'ip_address': '97.105.19.58'}"
      ]
     },
     "execution_count": 546,
     "metadata": {},
     "output_type": "execute_result"
    }
   ],
   "source": [
    "re.search(log_extracts,\\\n",
    "          'GET /api/v1/items?page=3 [16/Apr/2019:193453+0000] HTTP/1.1 {429} 3561 \"python-requests/2.21.0\" 97.105.19.58').groupdict()"
   ]
  },
  {
   "cell_type": "code",
   "execution_count": null,
   "id": "detected-controversy",
   "metadata": {},
   "outputs": [],
   "source": []
  }
 ],
 "metadata": {
  "kernelspec": {
   "display_name": "Python 3",
   "language": "python",
   "name": "python3"
  },
  "language_info": {
   "codemirror_mode": {
    "name": "ipython",
    "version": 3
   },
   "file_extension": ".py",
   "mimetype": "text/x-python",
   "name": "python",
   "nbconvert_exporter": "python",
   "pygments_lexer": "ipython3",
   "version": "3.8.5"
  }
 },
 "nbformat": 4,
 "nbformat_minor": 5
}
